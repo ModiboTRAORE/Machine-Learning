{
 "cells": [
  {
   "cell_type": "code",
   "execution_count": 3,
   "id": "869bc5d8",
   "metadata": {},
   "outputs": [],
   "source": [
    "import pandas as pd\n",
    "import matplotlib.pyplot as plt\n",
    "import numpy as np\n",
    "from sklearn.linear_model import LinearRegression\n",
    "from sklearn.model_selection import train_test_split\n",
    "from sklearn.metrics import accuracy_score"
   ]
  },
  {
   "cell_type": "code",
   "execution_count": 4,
   "id": "6027ceb2",
   "metadata": {},
   "outputs": [
    {
     "data": {
      "text/html": [
       "<div>\n",
       "<style scoped>\n",
       "    .dataframe tbody tr th:only-of-type {\n",
       "        vertical-align: middle;\n",
       "    }\n",
       "\n",
       "    .dataframe tbody tr th {\n",
       "        vertical-align: top;\n",
       "    }\n",
       "\n",
       "    .dataframe thead th {\n",
       "        text-align: right;\n",
       "    }\n",
       "</style>\n",
       "<table border=\"1\" class=\"dataframe\">\n",
       "  <thead>\n",
       "    <tr style=\"text-align: right;\">\n",
       "      <th></th>\n",
       "      <th>loyer</th>\n",
       "      <th>surface</th>\n",
       "    </tr>\n",
       "  </thead>\n",
       "  <tbody>\n",
       "    <tr>\n",
       "      <th>0</th>\n",
       "      <td>1330</td>\n",
       "      <td>37</td>\n",
       "    </tr>\n",
       "    <tr>\n",
       "      <th>1</th>\n",
       "      <td>1400</td>\n",
       "      <td>32</td>\n",
       "    </tr>\n",
       "    <tr>\n",
       "      <th>2</th>\n",
       "      <td>904</td>\n",
       "      <td>26</td>\n",
       "    </tr>\n",
       "    <tr>\n",
       "      <th>3</th>\n",
       "      <td>955</td>\n",
       "      <td>30</td>\n",
       "    </tr>\n",
       "    <tr>\n",
       "      <th>4</th>\n",
       "      <td>2545</td>\n",
       "      <td>70</td>\n",
       "    </tr>\n",
       "  </tbody>\n",
       "</table>\n",
       "</div>"
      ],
      "text/plain": [
       "   loyer  surface\n",
       "0   1330       37\n",
       "1   1400       32\n",
       "2    904       26\n",
       "3    955       30\n",
       "4   2545       70"
      ]
     },
     "execution_count": 4,
     "metadata": {},
     "output_type": "execute_result"
    }
   ],
   "source": [
    "data = pd.read_csv('house.csv')\n",
    "data.head()"
   ]
  },
  {
   "cell_type": "code",
   "execution_count": 5,
   "id": "2ef8d4fd",
   "metadata": {},
   "outputs": [
    {
     "data": {
      "text/plain": [
       "(545, 2)"
      ]
     },
     "execution_count": 5,
     "metadata": {},
     "output_type": "execute_result"
    }
   ],
   "source": [
    "data.shape"
   ]
  },
  {
   "cell_type": "code",
   "execution_count": 26,
   "id": "cb690582",
   "metadata": {},
   "outputs": [
    {
     "data": {
      "text/plain": [
       "Index(['loyer', 'surface'], dtype='object')"
      ]
     },
     "execution_count": 26,
     "metadata": {},
     "output_type": "execute_result"
    }
   ],
   "source": [
    "data.columns"
   ]
  },
  {
   "cell_type": "code",
   "execution_count": 28,
   "id": "834749ad",
   "metadata": {},
   "outputs": [
    {
     "data": {
      "text/plain": [
       "<bound method DataFrame.info of      loyer  surface\n",
       "0     1330       37\n",
       "1     1400       32\n",
       "2      904       26\n",
       "3      955       30\n",
       "4     2545       70\n",
       "..     ...      ...\n",
       "540   1490       48\n",
       "541   2020       58\n",
       "542   2050       70\n",
       "543   1220       42\n",
       "544   1610       44\n",
       "\n",
       "[545 rows x 2 columns]>"
      ]
     },
     "execution_count": 28,
     "metadata": {},
     "output_type": "execute_result"
    }
   ],
   "source": [
    "data.info"
   ]
  },
  {
   "cell_type": "code",
   "execution_count": 6,
   "id": "9455d673",
   "metadata": {},
   "outputs": [
    {
     "data": {
      "text/html": [
       "<div>\n",
       "<style scoped>\n",
       "    .dataframe tbody tr th:only-of-type {\n",
       "        vertical-align: middle;\n",
       "    }\n",
       "\n",
       "    .dataframe tbody tr th {\n",
       "        vertical-align: top;\n",
       "    }\n",
       "\n",
       "    .dataframe thead th {\n",
       "        text-align: right;\n",
       "    }\n",
       "</style>\n",
       "<table border=\"1\" class=\"dataframe\">\n",
       "  <thead>\n",
       "    <tr style=\"text-align: right;\">\n",
       "      <th></th>\n",
       "      <th>loyer</th>\n",
       "      <th>surface</th>\n",
       "    </tr>\n",
       "  </thead>\n",
       "  <tbody>\n",
       "    <tr>\n",
       "      <th>count</th>\n",
       "      <td>545.000000</td>\n",
       "      <td>545.000000</td>\n",
       "    </tr>\n",
       "    <tr>\n",
       "      <th>mean</th>\n",
       "      <td>2307.502752</td>\n",
       "      <td>63.236697</td>\n",
       "    </tr>\n",
       "    <tr>\n",
       "      <th>std</th>\n",
       "      <td>2201.364353</td>\n",
       "      <td>48.716475</td>\n",
       "    </tr>\n",
       "    <tr>\n",
       "      <th>min</th>\n",
       "      <td>488.000000</td>\n",
       "      <td>11.000000</td>\n",
       "    </tr>\n",
       "    <tr>\n",
       "      <th>25%</th>\n",
       "      <td>1255.000000</td>\n",
       "      <td>32.000000</td>\n",
       "    </tr>\n",
       "    <tr>\n",
       "      <th>50%</th>\n",
       "      <td>1795.000000</td>\n",
       "      <td>50.000000</td>\n",
       "    </tr>\n",
       "    <tr>\n",
       "      <th>75%</th>\n",
       "      <td>2600.000000</td>\n",
       "      <td>76.000000</td>\n",
       "    </tr>\n",
       "    <tr>\n",
       "      <th>max</th>\n",
       "      <td>25000.000000</td>\n",
       "      <td>415.000000</td>\n",
       "    </tr>\n",
       "  </tbody>\n",
       "</table>\n",
       "</div>"
      ],
      "text/plain": [
       "              loyer     surface\n",
       "count    545.000000  545.000000\n",
       "mean    2307.502752   63.236697\n",
       "std     2201.364353   48.716475\n",
       "min      488.000000   11.000000\n",
       "25%     1255.000000   32.000000\n",
       "50%     1795.000000   50.000000\n",
       "75%     2600.000000   76.000000\n",
       "max    25000.000000  415.000000"
      ]
     },
     "execution_count": 6,
     "metadata": {},
     "output_type": "execute_result"
    }
   ],
   "source": [
    "data.describe()"
   ]
  },
  {
   "cell_type": "code",
   "execution_count": 7,
   "id": "1ba45923",
   "metadata": {},
   "outputs": [
    {
     "data": {
      "text/plain": [
       "<matplotlib.legend.Legend at 0x11bbe82c370>"
      ]
     },
     "execution_count": 7,
     "metadata": {},
     "output_type": "execute_result"
    },
    {
     "data": {
      "image/png": "[encoded data removed]",
      "text/plain": [
       "<Figure size 500x500 with 1 Axes>"
      ]
     },
     "metadata": {},
     "output_type": "display_data"
    }
   ],
   "source": [
    "x= data['surface']\n",
    "y = data['loyer']\n",
    "plt.figure(figsize=(5,5))\n",
    "plt.scatter(x,y, c ='red', label = 'Nuage de point')\n",
    "plt.xlabel = 'Surface'\n",
    "plt.ylabel = 'Loyer'\n",
    "plt.title('Loyer en fonction de la surface')\n",
    "plt.legend()"
   ]
  },
  {
   "cell_type": "code",
   "execution_count": 12,
   "id": "47c18a68",
   "metadata": {},
   "outputs": [],
   "source": [
    "X = data['loyer']\n",
    "y = data['surface']"
   ]
  },
  {
   "cell_type": "code",
   "execution_count": 20,
   "id": "f53bb5da",
   "metadata": {},
   "outputs": [],
   "source": [
    "X = X.to_numpy().reshape(X.shape[0], 1)\n",
    "y = y.to_numpy().reshape(y.shape[0], 1)"
   ]
  },
  {
   "cell_type": "code",
   "execution_count": 21,
   "id": "c1de24d5",
   "metadata": {},
   "outputs": [],
   "source": [
    "X_train, X_test, y_train, y_test = train_test_split(X, y, test_size = 0.2)"
   ]
  },
  {
   "cell_type": "code",
   "execution_count": 22,
   "id": "5ee6cbdb",
   "metadata": {},
   "outputs": [],
   "source": [
    "model = LinearRegression()"
   ]
  },
  {
   "cell_type": "code",
   "execution_count": 23,
   "id": "9fbb23b8",
   "metadata": {},
   "outputs": [
    {
     "data": {
      "text/html": [
       "<style>#sk-container-id-1 {color: black;background-color: white;}#sk-container-id-1 pre{padding: 0;}#sk-container-id-1 div.sk-toggleable {background-color: white;}#sk-container-id-1 label.sk-toggleable__label {cursor: pointer;display: block;width: 100%;margin-bottom: 0;padding: 0.3em;box-sizing: border-box;text-align: center;}#sk-container-id-1 label.sk-toggleable__label-arrow:before {content: \"▸\";float: left;margin-right: 0.25em;color: #696969;}#sk-container-id-1 label.sk-toggleable__label-arrow:hover:before {color: black;}#sk-container-id-1 div.sk-estimator:hover label.sk-toggleable__label-arrow:before {color: black;}#sk-container-id-1 div.sk-toggleable__content {max-height: 0;max-width: 0;overflow: hidden;text-align: left;background-color: #f0f8ff;}#sk-container-id-1 div.sk-toggleable__content pre {margin: 0.2em;color: black;border-radius: 0.25em;background-color: #f0f8ff;}#sk-container-id-1 input.sk-toggleable__control:checked~div.sk-toggleable__content {max-height: 200px;max-width: 100%;overflow: auto;}#sk-container-id-1 input.sk-toggleable__control:checked~label.sk-toggleable__label-arrow:before {content: \"▾\";}#sk-container-id-1 div.sk-estimator input.sk-toggleable__control:checked~label.sk-toggleable__label {background-color: #d4ebff;}#sk-container-id-1 div.sk-label input.sk-toggleable__control:checked~label.sk-toggleable__label {background-color: #d4ebff;}#sk-container-id-1 input.sk-hidden--visually {border: 0;clip: rect(1px 1px 1px 1px);clip: rect(1px, 1px, 1px, 1px);height: 1px;margin: -1px;overflow: hidden;padding: 0;position: absolute;width: 1px;}#sk-container-id-1 div.sk-estimator {font-family: monospace;background-color: #f0f8ff;border: 1px dotted black;border-radius: 0.25em;box-sizing: border-box;margin-bottom: 0.5em;}#sk-container-id-1 div.sk-estimator:hover {background-color: #d4ebff;}#sk-container-id-1 div.sk-parallel-item::after {content: \"\";width: 100%;border-bottom: 1px solid gray;flex-grow: 1;}#sk-container-id-1 div.sk-label:hover label.sk-toggleable__label {background-color: #d4ebff;}#sk-container-id-1 div.sk-serial::before {content: \"\";position: absolute;border-left: 1px solid gray;box-sizing: border-box;top: 0;bottom: 0;left: 50%;z-index: 0;}#sk-container-id-1 div.sk-serial {display: flex;flex-direction: column;align-items: center;background-color: white;padding-right: 0.2em;padding-left: 0.2em;position: relative;}#sk-container-id-1 div.sk-item {position: relative;z-index: 1;}#sk-container-id-1 div.sk-parallel {display: flex;align-items: stretch;justify-content: center;background-color: white;position: relative;}#sk-container-id-1 div.sk-item::before, #sk-container-id-1 div.sk-parallel-item::before {content: \"\";position: absolute;border-left: 1px solid gray;box-sizing: border-box;top: 0;bottom: 0;left: 50%;z-index: -1;}#sk-container-id-1 div.sk-parallel-item {display: flex;flex-direction: column;z-index: 1;position: relative;background-color: white;}#sk-container-id-1 div.sk-parallel-item:first-child::after {align-self: flex-end;width: 50%;}#sk-container-id-1 div.sk-parallel-item:last-child::after {align-self: flex-start;width: 50%;}#sk-container-id-1 div.sk-parallel-item:only-child::after {width: 0;}#sk-container-id-1 div.sk-dashed-wrapped {border: 1px dashed gray;margin: 0 0.4em 0.5em 0.4em;box-sizing: border-box;padding-bottom: 0.4em;background-color: white;}#sk-container-id-1 div.sk-label label {font-family: monospace;font-weight: bold;display: inline-block;line-height: 1.2em;}#sk-container-id-1 div.sk-label-container {text-align: center;}#sk-container-id-1 div.sk-container {/* jupyter's `normalize.less` sets `[hidden] { display: none; }` but bootstrap.min.css set `[hidden] { display: none !important; }` so we also need the `!important` here to be able to override the default hidden behavior on the sphinx rendered scikit-learn.org. See: https://github.com/scikit-learn/scikit-learn/issues/21755 */display: inline-block !important;position: relative;}#sk-container-id-1 div.sk-text-repr-fallback {display: none;}</style><div id=\"sk-container-id-1\" class=\"sk-top-container\"><div class=\"sk-text-repr-fallback\"><pre>LinearRegression()</pre><b>In a Jupyter environment, please rerun this cell to show the HTML representation or trust the notebook. <br />On GitHub, the HTML representation is unable to render, please try loading this page with nbviewer.org.</b></div><div class=\"sk-container\" hidden><div class=\"sk-item\"><div class=\"sk-estimator sk-toggleable\"><input class=\"sk-toggleable__control sk-hidden--visually\" id=\"sk-estimator-id-1\" type=\"checkbox\" checked><label for=\"sk-estimator-id-1\" class=\"sk-toggleable__label sk-toggleable__label-arrow\">LinearRegression</label><div class=\"sk-toggleable__content\"><pre>LinearRegression()</pre></div></div></div></div></div>"
      ],
      "text/plain": [
       "LinearRegression()"
      ]
     },
     "execution_count": 23,
     "metadata": {},
     "output_type": "execute_result"
    }
   ],
   "source": [
    "model.fit(X_train, y_train)"
   ]
  },
  {
   "cell_type": "code",
   "execution_count": 25,
   "id": "e8ff1d57",
   "metadata": {},
   "outputs": [
    {
     "data": {
      "text/plain": [
       "0.7976250404013696"
      ]
     },
     "execution_count": 25,
     "metadata": {},
     "output_type": "execute_result"
    }
   ],
   "source": [
    "model.score(X_train, y_train)"
   ]
  },
  {
   "cell_type": "code",
   "execution_count": 35,
   "id": "0f63cbcb",
   "metadata": {},
   "outputs": [
    {
     "data": {
      "text/plain": [
       "array([[120.67843691],\n",
       "       [ 75.85894582],\n",
       "       [ 32.57073826],\n",
       "       [ 40.18789225],\n",
       "       [ 61.44917514],\n",
       "       [ 77.03685623],\n",
       "       [ 52.59521523],\n",
       "       [332.05445995],\n",
       "       [ 62.11665771],\n",
       "       [ 90.68098514],\n",
       "       [ 51.12282722],\n",
       "       [ 59.17188168],\n",
       "       [ 60.15347369],\n",
       "       [ 56.03078726],\n",
       "       [ 84.30063709],\n",
       "       [ 43.46640955],\n",
       "       [ 35.69220085],\n",
       "       [ 47.78541439],\n",
       "       [ 49.3559616 ],\n",
       "       [ 41.50322554],\n",
       "       [ 65.06143373],\n",
       "       [ 53.87128484],\n",
       "       [ 29.72412144],\n",
       "       [ 36.6934247 ],\n",
       "       [ 39.81488728],\n",
       "       [ 34.06275812],\n",
       "       [ 66.2197123 ],\n",
       "       [ 64.0209462 ],\n",
       "       [ 48.9633248 ],\n",
       "       [ 36.7915839 ],\n",
       "       [ 43.46640955],\n",
       "       [ 66.45529438],\n",
       "       [ 41.30690714],\n",
       "       [ 47.39277759],\n",
       "       [ 34.43576308],\n",
       "       [ 69.96939377],\n",
       "       [332.05445995],\n",
       "       [ 62.09702587],\n",
       "       [ 42.48481755],\n",
       "       [ 55.24551365],\n",
       "       [ 35.57440981],\n",
       "       [135.73605832],\n",
       "       [ 51.31914562],\n",
       "       [ 80.76690586],\n",
       "       [ 44.25168316],\n",
       "       [ 62.54855819],\n",
       "       [ 80.76690586],\n",
       "       [ 36.39894709],\n",
       "       [ 72.9141698 ],\n",
       "       [ 55.24551365],\n",
       "       [ 45.42959357],\n",
       "       [ 82.73008988],\n",
       "       [ 65.06143373],\n",
       "       [ 54.75471765],\n",
       "       [ 68.98780177],\n",
       "       [ 49.3559616 ],\n",
       "       [ 53.28232963],\n",
       "       [ 61.1350657 ],\n",
       "       [ 44.25168316],\n",
       "       [ 43.46640955],\n",
       "       [ 42.48481755],\n",
       "       [ 72.9141698 ],\n",
       "       [ 42.48481755],\n",
       "       [ 52.30073763],\n",
       "       [ 55.67741413],\n",
       "       [ 44.44800156],\n",
       "       [ 60.7424289 ],\n",
       "       [ 72.9141698 ],\n",
       "       [253.5270993 ],\n",
       "       [ 68.98780177],\n",
       "       [ 53.28232963],\n",
       "       [ 62.11665771],\n",
       "       [ 58.97556328],\n",
       "       [ 31.68730546],\n",
       "       [ 57.20869767],\n",
       "       [ 64.25652829],\n",
       "       [ 30.0971264 ],\n",
       "       [ 51.51546402],\n",
       "       [ 41.50322554],\n",
       "       [ 35.80999189],\n",
       "       [ 40.52163353],\n",
       "       [ 43.27009115],\n",
       "       [ 74.87735381],\n",
       "       [ 45.42959357],\n",
       "       [ 33.65048947],\n",
       "       [ 35.41735509],\n",
       "       [ 55.63815045],\n",
       "       [ 72.9141698 ],\n",
       "       [ 55.24551365],\n",
       "       [ 72.52153299],\n",
       "       [ 76.84053783],\n",
       "       [ 33.84680787],\n",
       "       [ 49.74859841],\n",
       "       [ 40.26641961],\n",
       "       [145.5519784 ],\n",
       "       [ 53.67496644],\n",
       "       [ 42.58297675],\n",
       "       [ 63.09824972],\n",
       "       [ 51.31914562],\n",
       "       [ 48.7670064 ],\n",
       "       [ 76.84053783],\n",
       "       [ 47.00014078],\n",
       "       [116.10421816],\n",
       "       [ 50.92650882],\n",
       "       [ 37.3805391 ],\n",
       "       [ 76.84053783],\n",
       "       [ 59.17188168],\n",
       "       [ 75.4074135 ],\n",
       "       [ 41.11058873]])"
      ]
     },
     "execution_count": 35,
     "metadata": {},
     "output_type": "execute_result"
    }
   ],
   "source": [
    "model.predict(X_test)"
   ]
  },
  {
   "cell_type": "code",
   "execution_count": null,
   "id": "67b8064f",
   "metadata": {},
   "outputs": [],
   "source": []
  }
 ],
 "metadata": {
  "kernelspec": {
   "display_name": "Python 3 (ipykernel)",
   "language": "python",
   "name": "python3"
  },
  "language_info": {
   "codemirror_mode": {
    "name": "ipython",
    "version": 3
   },
   "file_extension": ".py",
   "mimetype": "text/x-python",
   "name": "python",
   "nbconvert_exporter": "python",
   "pygments_lexer": "ipython3",
   "version": "3.10.9"
  }
 },
 "nbformat": 4,
 "nbformat_minor": 5
}
